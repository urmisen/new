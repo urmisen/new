{
  "nbformat": 4,
  "nbformat_minor": 0,
  "metadata": {
    "colab": {
      "name": "Single_layer_perceptron_user_input_bit (1).ipynb",
      "provenance": []
    },
    "kernelspec": {
      "name": "python3",
      "display_name": "Python 3"
    }
  },
  "cells": [
    {
      "cell_type": "code",
      "metadata": {
        "id": "ndhb_QwsOFSU",
        "outputId": "afa5e4fd-215b-45a8-9a1d-ffbe115b5466",
        "colab": {
          "base_uri": "https://localhost:8080/"
        }
      },
      "source": [
        "!pip install tensorflow keras numpy matplotlib pandas sklearn biopython"
      ],
      "execution_count": 1,
      "outputs": [
        {
          "output_type": "stream",
          "text": [
            "Requirement already satisfied: tensorflow in /usr/local/lib/python3.6/dist-packages (2.3.0)\n",
            "Requirement already satisfied: keras in /usr/local/lib/python3.6/dist-packages (2.4.3)\n",
            "Requirement already satisfied: numpy in /usr/local/lib/python3.6/dist-packages (1.18.5)\n",
            "Requirement already satisfied: matplotlib in /usr/local/lib/python3.6/dist-packages (3.2.2)\n",
            "Requirement already satisfied: pandas in /usr/local/lib/python3.6/dist-packages (1.1.4)\n",
            "Requirement already satisfied: sklearn in /usr/local/lib/python3.6/dist-packages (0.0)\n",
            "Collecting biopython\n",
            "\u001b[?25l  Downloading https://files.pythonhosted.org/packages/76/02/8b606c4aa92ff61b5eda71d23b499ab1de57d5e818be33f77b01a6f435a8/biopython-1.78-cp36-cp36m-manylinux1_x86_64.whl (2.3MB)\n",
            "\u001b[K     |████████████████████████████████| 2.3MB 2.8MB/s \n",
            "\u001b[?25hRequirement already satisfied: grpcio>=1.8.6 in /usr/local/lib/python3.6/dist-packages (from tensorflow) (1.33.2)\n",
            "Requirement already satisfied: scipy==1.4.1 in /usr/local/lib/python3.6/dist-packages (from tensorflow) (1.4.1)\n",
            "Requirement already satisfied: keras-preprocessing<1.2,>=1.1.1 in /usr/local/lib/python3.6/dist-packages (from tensorflow) (1.1.2)\n",
            "Requirement already satisfied: wrapt>=1.11.1 in /usr/local/lib/python3.6/dist-packages (from tensorflow) (1.12.1)\n",
            "Requirement already satisfied: six>=1.12.0 in /usr/local/lib/python3.6/dist-packages (from tensorflow) (1.15.0)\n",
            "Requirement already satisfied: h5py<2.11.0,>=2.10.0 in /usr/local/lib/python3.6/dist-packages (from tensorflow) (2.10.0)\n",
            "Requirement already satisfied: protobuf>=3.9.2 in /usr/local/lib/python3.6/dist-packages (from tensorflow) (3.12.4)\n",
            "Requirement already satisfied: opt-einsum>=2.3.2 in /usr/local/lib/python3.6/dist-packages (from tensorflow) (3.3.0)\n",
            "Requirement already satisfied: tensorflow-estimator<2.4.0,>=2.3.0 in /usr/local/lib/python3.6/dist-packages (from tensorflow) (2.3.0)\n",
            "Requirement already satisfied: gast==0.3.3 in /usr/local/lib/python3.6/dist-packages (from tensorflow) (0.3.3)\n",
            "Requirement already satisfied: absl-py>=0.7.0 in /usr/local/lib/python3.6/dist-packages (from tensorflow) (0.10.0)\n",
            "Requirement already satisfied: termcolor>=1.1.0 in /usr/local/lib/python3.6/dist-packages (from tensorflow) (1.1.0)\n",
            "Requirement already satisfied: wheel>=0.26 in /usr/local/lib/python3.6/dist-packages (from tensorflow) (0.35.1)\n",
            "Requirement already satisfied: astunparse==1.6.3 in /usr/local/lib/python3.6/dist-packages (from tensorflow) (1.6.3)\n",
            "Requirement already satisfied: tensorboard<3,>=2.3.0 in /usr/local/lib/python3.6/dist-packages (from tensorflow) (2.3.0)\n",
            "Requirement already satisfied: google-pasta>=0.1.8 in /usr/local/lib/python3.6/dist-packages (from tensorflow) (0.2.0)\n",
            "Requirement already satisfied: pyyaml in /usr/local/lib/python3.6/dist-packages (from keras) (3.13)\n",
            "Requirement already satisfied: pyparsing!=2.0.4,!=2.1.2,!=2.1.6,>=2.0.1 in /usr/local/lib/python3.6/dist-packages (from matplotlib) (2.4.7)\n",
            "Requirement already satisfied: python-dateutil>=2.1 in /usr/local/lib/python3.6/dist-packages (from matplotlib) (2.8.1)\n",
            "Requirement already satisfied: cycler>=0.10 in /usr/local/lib/python3.6/dist-packages (from matplotlib) (0.10.0)\n",
            "Requirement already satisfied: kiwisolver>=1.0.1 in /usr/local/lib/python3.6/dist-packages (from matplotlib) (1.3.1)\n",
            "Requirement already satisfied: pytz>=2017.2 in /usr/local/lib/python3.6/dist-packages (from pandas) (2018.9)\n",
            "Requirement already satisfied: scikit-learn in /usr/local/lib/python3.6/dist-packages (from sklearn) (0.22.2.post1)\n",
            "Requirement already satisfied: setuptools in /usr/local/lib/python3.6/dist-packages (from protobuf>=3.9.2->tensorflow) (50.3.2)\n",
            "Requirement already satisfied: markdown>=2.6.8 in /usr/local/lib/python3.6/dist-packages (from tensorboard<3,>=2.3.0->tensorflow) (3.3.3)\n",
            "Requirement already satisfied: tensorboard-plugin-wit>=1.6.0 in /usr/local/lib/python3.6/dist-packages (from tensorboard<3,>=2.3.0->tensorflow) (1.7.0)\n",
            "Requirement already satisfied: google-auth-oauthlib<0.5,>=0.4.1 in /usr/local/lib/python3.6/dist-packages (from tensorboard<3,>=2.3.0->tensorflow) (0.4.2)\n",
            "Requirement already satisfied: requests<3,>=2.21.0 in /usr/local/lib/python3.6/dist-packages (from tensorboard<3,>=2.3.0->tensorflow) (2.23.0)\n",
            "Requirement already satisfied: werkzeug>=0.11.15 in /usr/local/lib/python3.6/dist-packages (from tensorboard<3,>=2.3.0->tensorflow) (1.0.1)\n",
            "Requirement already satisfied: google-auth<2,>=1.6.3 in /usr/local/lib/python3.6/dist-packages (from tensorboard<3,>=2.3.0->tensorflow) (1.17.2)\n",
            "Requirement already satisfied: joblib>=0.11 in /usr/local/lib/python3.6/dist-packages (from scikit-learn->sklearn) (0.17.0)\n",
            "Requirement already satisfied: importlib-metadata; python_version < \"3.8\" in /usr/local/lib/python3.6/dist-packages (from markdown>=2.6.8->tensorboard<3,>=2.3.0->tensorflow) (2.0.0)\n",
            "Requirement already satisfied: requests-oauthlib>=0.7.0 in /usr/local/lib/python3.6/dist-packages (from google-auth-oauthlib<0.5,>=0.4.1->tensorboard<3,>=2.3.0->tensorflow) (1.3.0)\n",
            "Requirement already satisfied: chardet<4,>=3.0.2 in /usr/local/lib/python3.6/dist-packages (from requests<3,>=2.21.0->tensorboard<3,>=2.3.0->tensorflow) (3.0.4)\n",
            "Requirement already satisfied: urllib3!=1.25.0,!=1.25.1,<1.26,>=1.21.1 in /usr/local/lib/python3.6/dist-packages (from requests<3,>=2.21.0->tensorboard<3,>=2.3.0->tensorflow) (1.24.3)\n",
            "Requirement already satisfied: certifi>=2017.4.17 in /usr/local/lib/python3.6/dist-packages (from requests<3,>=2.21.0->tensorboard<3,>=2.3.0->tensorflow) (2020.6.20)\n",
            "Requirement already satisfied: idna<3,>=2.5 in /usr/local/lib/python3.6/dist-packages (from requests<3,>=2.21.0->tensorboard<3,>=2.3.0->tensorflow) (2.10)\n",
            "Requirement already satisfied: pyasn1-modules>=0.2.1 in /usr/local/lib/python3.6/dist-packages (from google-auth<2,>=1.6.3->tensorboard<3,>=2.3.0->tensorflow) (0.2.8)\n",
            "Requirement already satisfied: rsa<5,>=3.1.4; python_version >= \"3\" in /usr/local/lib/python3.6/dist-packages (from google-auth<2,>=1.6.3->tensorboard<3,>=2.3.0->tensorflow) (4.6)\n",
            "Requirement already satisfied: cachetools<5.0,>=2.0.0 in /usr/local/lib/python3.6/dist-packages (from google-auth<2,>=1.6.3->tensorboard<3,>=2.3.0->tensorflow) (4.1.1)\n",
            "Requirement already satisfied: zipp>=0.5 in /usr/local/lib/python3.6/dist-packages (from importlib-metadata; python_version < \"3.8\"->markdown>=2.6.8->tensorboard<3,>=2.3.0->tensorflow) (3.4.0)\n",
            "Requirement already satisfied: oauthlib>=3.0.0 in /usr/local/lib/python3.6/dist-packages (from requests-oauthlib>=0.7.0->google-auth-oauthlib<0.5,>=0.4.1->tensorboard<3,>=2.3.0->tensorflow) (3.1.0)\n",
            "Requirement already satisfied: pyasn1<0.5.0,>=0.4.6 in /usr/local/lib/python3.6/dist-packages (from pyasn1-modules>=0.2.1->google-auth<2,>=1.6.3->tensorboard<3,>=2.3.0->tensorflow) (0.4.8)\n",
            "Installing collected packages: biopython\n",
            "Successfully installed biopython-1.78\n"
          ],
          "name": "stdout"
        }
      ]
    },
    {
      "cell_type": "code",
      "metadata": {
        "id": "pNB1CanOOGYX"
      },
      "source": [
        "from Bio import SeqIO\n",
        "import pandas as pd\n",
        "import numpy as np\n",
        "from pandas import ExcelWriter\n",
        "from pandas import ExcelFile\n",
        "import re, ast\n",
        "\n",
        "\n",
        "class Perceptron(object):\n",
        "\n",
        "    def __init__(self, no_of_inputs, threshold=100, learning_rate=0.01):\n",
        "        self.threshold = threshold\n",
        "        self.learning_rate = learning_rate\n",
        "        self.weights = np.zeros(no_of_inputs + 1)\n",
        "           \n",
        "    def predict(self, inputs):\n",
        "        \"\"\" This method will house the f(x) = 1 if w · x + b > 0 : 0 otherwise algorithm.\"\"\"\n",
        "        summation = np.dot(inputs, self.weights[1:]) + self.weights[0]\n",
        "        if summation > 0:\n",
        "          activation = 1\n",
        "        else:\n",
        "          activation = 0            \n",
        "        return activation\n",
        "\n",
        "    def train(self, training_inputs, labels):\n",
        "        for _ in range(self.threshold):\n",
        "            for inputs, label in zip(training_inputs, labels):\n",
        "                prediction = self.predict(inputs)\n",
        "                self.weights[1:] += self.learning_rate * (label - prediction) * inputs\n",
        "                self.weights[0] += self.learning_rate * (label - prediction)\n",
        " "
      ],
      "execution_count": 2,
      "outputs": []
    },
    {
      "cell_type": "code",
      "metadata": {
        "id": "73HVE6HweDXX"
      },
      "source": [
        "# Python program to convert decimal to binary \n",
        "    \n",
        "# Function to convert Decimal number  \n",
        "# to Binary number  \n",
        "def decimalToBinary(n,n_bit):  \n",
        "    p=\"0\"+n_bit+\"b\"\n",
        "    res = str([int(i) for i in list(format(n,p))] )\n",
        "    return res  "
      ],
      "execution_count": 3,
      "outputs": []
    },
    {
      "cell_type": "code",
      "metadata": {
        "id": "e8ZizaZiOSHQ",
        "outputId": "2fa852a7-763e-41c4-cc1d-7ab0a4310a49",
        "colab": {
          "base_uri": "https://localhost:8080/"
        }
      },
      "source": [
        "\n",
        "# Driver code  \n",
        "if __name__ == '__main__': \n",
        "\n",
        "  id=[]\n",
        "  bit = []\n",
        "  target=[]\n",
        "  #input the number of bits\n",
        "  n_bit=input(\"enter :\")\n",
        "  #calculate the total no of samples\n",
        "  n_total= 2** int(n_bit)\n",
        "  #taking the half of the tatal\n",
        "  n_half=int(n_total/2)\n",
        "  #decimal to binary\n",
        "  for i in range(n_total):\n",
        "    bin = decimalToBinary(i,n_bit)\n",
        "    bit.append(bin)\n",
        "    id.append(i)\n",
        "  #creating target(1) for first half\n",
        "  for j in range(0,n_half):\n",
        "    target.append(1)\n",
        "\n",
        "  #creating target(0) for second half\n",
        "  for k in range(n_half,n_total):\n",
        "    target.append(0)\n",
        "  print(target)\n",
        "  #creating Dataframe\n",
        "  raw_data ={\n",
        "              'ID':id,\n",
        "              'Bit': bit,\n",
        "              'Target':target\n",
        "              }\n",
        "  df=pd.DataFrame(raw_data,columns=['ID','Bit','Target'])\n",
        "  is_even = df['ID'].astype(int) % 2 == 0\n",
        "  df_train = df[is_even]\n",
        "  df_test = df[~is_even]\n",
        "\n",
        "  print(\"Training Dataset :\\n\",df_train)\n",
        "  print(\"Testing Dataset :\\n\",df_test)\n",
        "\n",
        "  #loading train data\n",
        "  X=df_train.Bit\n",
        "  Y=df_train.Target\n",
        "  training_inputs = []\n",
        "  for i in X:\n",
        "    NP=np.array(ast.literal_eval(i))\n",
        "    training_inputs.append(NP)\n",
        "\n",
        "  labels = np.array(Y)\n",
        "  #model creation\n",
        "  perceptron = Perceptron(int(n_bit))\n",
        "  #train the model\n",
        "  perceptron.train(training_inputs, labels)\n",
        "\n",
        "  #loading test data\n",
        "  X1=df_test.Bit\n",
        "  Y1=df_test.Target\n",
        "  X_test = []\n",
        "  for i in X:\n",
        "    NP=np.array(ast.literal_eval(i))\n",
        "    X_test.append(NP)\n",
        "\n",
        "  y_test = np.array(Y1)\n",
        "  y_pred=[]\n",
        "  for j in range(0,n_half):\n",
        "    inputs=X_test[j]\n",
        "    #prediction\n",
        "    predictions=perceptron.predict(inputs)\n",
        "    y_pred.append(predictions)\n",
        "  \n",
        "  #=> 1\n",
        "  print(y_pred)\n",
        "\n"
      ],
      "execution_count": 10,
      "outputs": [
        {
          "output_type": "stream",
          "text": [
            "enter :6\n",
            "[1, 1, 1, 1, 1, 1, 1, 1, 1, 1, 1, 1, 1, 1, 1, 1, 1, 1, 1, 1, 1, 1, 1, 1, 1, 1, 1, 1, 1, 1, 1, 1, 0, 0, 0, 0, 0, 0, 0, 0, 0, 0, 0, 0, 0, 0, 0, 0, 0, 0, 0, 0, 0, 0, 0, 0, 0, 0, 0, 0, 0, 0, 0, 0]\n",
            "Training Dataset :\n",
            "     ID                 Bit  Target\n",
            "0    0  [0, 0, 0, 0, 0, 0]       1\n",
            "2    2  [0, 0, 0, 0, 1, 0]       1\n",
            "4    4  [0, 0, 0, 1, 0, 0]       1\n",
            "6    6  [0, 0, 0, 1, 1, 0]       1\n",
            "8    8  [0, 0, 1, 0, 0, 0]       1\n",
            "10  10  [0, 0, 1, 0, 1, 0]       1\n",
            "12  12  [0, 0, 1, 1, 0, 0]       1\n",
            "14  14  [0, 0, 1, 1, 1, 0]       1\n",
            "16  16  [0, 1, 0, 0, 0, 0]       1\n",
            "18  18  [0, 1, 0, 0, 1, 0]       1\n",
            "20  20  [0, 1, 0, 1, 0, 0]       1\n",
            "22  22  [0, 1, 0, 1, 1, 0]       1\n",
            "24  24  [0, 1, 1, 0, 0, 0]       1\n",
            "26  26  [0, 1, 1, 0, 1, 0]       1\n",
            "28  28  [0, 1, 1, 1, 0, 0]       1\n",
            "30  30  [0, 1, 1, 1, 1, 0]       1\n",
            "32  32  [1, 0, 0, 0, 0, 0]       0\n",
            "34  34  [1, 0, 0, 0, 1, 0]       0\n",
            "36  36  [1, 0, 0, 1, 0, 0]       0\n",
            "38  38  [1, 0, 0, 1, 1, 0]       0\n",
            "40  40  [1, 0, 1, 0, 0, 0]       0\n",
            "42  42  [1, 0, 1, 0, 1, 0]       0\n",
            "44  44  [1, 0, 1, 1, 0, 0]       0\n",
            "46  46  [1, 0, 1, 1, 1, 0]       0\n",
            "48  48  [1, 1, 0, 0, 0, 0]       0\n",
            "50  50  [1, 1, 0, 0, 1, 0]       0\n",
            "52  52  [1, 1, 0, 1, 0, 0]       0\n",
            "54  54  [1, 1, 0, 1, 1, 0]       0\n",
            "56  56  [1, 1, 1, 0, 0, 0]       0\n",
            "58  58  [1, 1, 1, 0, 1, 0]       0\n",
            "60  60  [1, 1, 1, 1, 0, 0]       0\n",
            "62  62  [1, 1, 1, 1, 1, 0]       0\n",
            "Testing Dataset :\n",
            "     ID                 Bit  Target\n",
            "1    1  [0, 0, 0, 0, 0, 1]       1\n",
            "3    3  [0, 0, 0, 0, 1, 1]       1\n",
            "5    5  [0, 0, 0, 1, 0, 1]       1\n",
            "7    7  [0, 0, 0, 1, 1, 1]       1\n",
            "9    9  [0, 0, 1, 0, 0, 1]       1\n",
            "11  11  [0, 0, 1, 0, 1, 1]       1\n",
            "13  13  [0, 0, 1, 1, 0, 1]       1\n",
            "15  15  [0, 0, 1, 1, 1, 1]       1\n",
            "17  17  [0, 1, 0, 0, 0, 1]       1\n",
            "19  19  [0, 1, 0, 0, 1, 1]       1\n",
            "21  21  [0, 1, 0, 1, 0, 1]       1\n",
            "23  23  [0, 1, 0, 1, 1, 1]       1\n",
            "25  25  [0, 1, 1, 0, 0, 1]       1\n",
            "27  27  [0, 1, 1, 0, 1, 1]       1\n",
            "29  29  [0, 1, 1, 1, 0, 1]       1\n",
            "31  31  [0, 1, 1, 1, 1, 1]       1\n",
            "33  33  [1, 0, 0, 0, 0, 1]       0\n",
            "35  35  [1, 0, 0, 0, 1, 1]       0\n",
            "37  37  [1, 0, 0, 1, 0, 1]       0\n",
            "39  39  [1, 0, 0, 1, 1, 1]       0\n",
            "41  41  [1, 0, 1, 0, 0, 1]       0\n",
            "43  43  [1, 0, 1, 0, 1, 1]       0\n",
            "45  45  [1, 0, 1, 1, 0, 1]       0\n",
            "47  47  [1, 0, 1, 1, 1, 1]       0\n",
            "49  49  [1, 1, 0, 0, 0, 1]       0\n",
            "51  51  [1, 1, 0, 0, 1, 1]       0\n",
            "53  53  [1, 1, 0, 1, 0, 1]       0\n",
            "55  55  [1, 1, 0, 1, 1, 1]       0\n",
            "57  57  [1, 1, 1, 0, 0, 1]       0\n",
            "59  59  [1, 1, 1, 0, 1, 1]       0\n",
            "61  61  [1, 1, 1, 1, 0, 1]       0\n",
            "63  63  [1, 1, 1, 1, 1, 1]       0\n",
            "[1, 1, 1, 1, 1, 1, 1, 1, 1, 1, 1, 1, 1, 1, 1, 1, 0, 0, 0, 0, 0, 0, 0, 0, 0, 0, 0, 0, 0, 0, 0, 0]\n"
          ],
          "name": "stdout"
        }
      ]
    },
    {
      "cell_type": "markdown",
      "metadata": {
        "id": "Pne7Qb_VM7f1"
      },
      "source": [
        "# **Evaluating Performance**"
      ]
    },
    {
      "cell_type": "code",
      "metadata": {
        "id": "V8Ccg4eRNAcf",
        "outputId": "cbdc0fe4-f181-49f7-ac3d-f177b6b16575",
        "colab": {
          "base_uri": "https://localhost:8080/"
        }
      },
      "source": [
        "from sklearn.metrics import confusion_matrix \n",
        "from sklearn.metrics import accuracy_score \n",
        "from sklearn.metrics import classification_report \n",
        "results = confusion_matrix(y_test,y_pred) \n",
        "print ('Confusion Matrix :')\n",
        "print(results) \n",
        "print ('Accuracy Score :',accuracy_score(y_test,y_pred))\n",
        "print ('Report : ')\n",
        "print (classification_report(y_test,y_pred))"
      ],
      "execution_count": 11,
      "outputs": [
        {
          "output_type": "stream",
          "text": [
            "Confusion Matrix :\n",
            "[[16  0]\n",
            " [ 0 16]]\n",
            "Accuracy Score : 1.0\n",
            "Report : \n",
            "              precision    recall  f1-score   support\n",
            "\n",
            "           0       1.00      1.00      1.00        16\n",
            "           1       1.00      1.00      1.00        16\n",
            "\n",
            "    accuracy                           1.00        32\n",
            "   macro avg       1.00      1.00      1.00        32\n",
            "weighted avg       1.00      1.00      1.00        32\n",
            "\n"
          ],
          "name": "stdout"
        }
      ]
    },
    {
      "cell_type": "markdown",
      "metadata": {
        "id": "PcREilwjdAl0"
      },
      "source": [
        "# **Reference:**\n",
        "1. [https://medium.com/@thomascountz/19-line-line-by-line-python-perceptron-b6f113b161f3](https://medium.com/@thomascountz/19-line-line-by-line-python-perceptron-b6f113b161f3)\n",
        "\n",
        "2. [https://machinelearningmastery.com/implement-perceptron-algorithm-scratch-python/](https://machinelearningmastery.com/implement-perceptron-algorithm-scratch-python/)"
      ]
    },
    {
      "cell_type": "code",
      "metadata": {
        "id": "byKP_vRwUO1K"
      },
      "source": [
        ""
      ],
      "execution_count": null,
      "outputs": []
    }
  ]
}