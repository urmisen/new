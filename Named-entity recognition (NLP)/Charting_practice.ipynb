{
  "nbformat": 4,
  "nbformat_minor": 0,
  "metadata": {
    "colab": {
      "name": " Charting_practice.ipynb",
      "provenance": []
    },
    "kernelspec": {
      "name": "python3",
      "display_name": "Python 3"
    },
    "language_info": {
      "name": "python"
    }
  },
  "cells": [
    {
      "cell_type": "markdown",
      "metadata": {
        "id": "tPLtpmi3Sfln"
      },
      "source": [
        "### Charting practice\n",
        "In this exercise, you'll use some extracted named entities and their groupings from a series of newspaper articles to chart the diversity of named entity types in the articles.\n",
        "\n",
        "You'll use a defaultdict called ner_categories, with keys representing every named entity group type, and values to count the number of each different named entity type. You have a chunked sentence list called chunked_sentences similar to the last exercise, but this time with non-binary category names.\n",
        "\n",
        "You can use hasattr() to determine if each chunk has a 'label' and then simply use the chunk's .label() method as the dictionary key.\n",
        "\n",
        "* Create a defaultdict called ner_categories, with the default type set to int."
      ]
    },
    {
      "cell_type": "code",
      "metadata": {
        "id": "XTwG8ZQ9SabR"
      },
      "source": [
        "# Create the defaultdict: ner_categories\n",
        "ner_categories = defaultdict(int)\n",
        " "
      ],
      "execution_count": null,
      "outputs": []
    },
    {
      "cell_type": "markdown",
      "metadata": {
        "id": "lRIfhuKL5gfB"
      },
      "source": [
        "* Fill up the dictionary with values for each of the keys. Remember, the keys will represent the label().\n",
        "1. In the outer for loop, iterate over chunked_sentences, using sent as your iterator variable.\n",
        "2. In the inner for loop, iterate over sent. If the condition is true, increment the value of each key by 1.\n",
        "3. Remember to use the chunk's .label() method as the key!\n",
        "* For the pie chart labels, create a list called labels from the keys of ner_categories, which can be accessed using .keys()."
      ]
    },
    {
      "cell_type": "code",
      "metadata": {
        "id": "Sp46oF-zLskK"
      },
      "source": [
        "\n",
        "\n",
        "# Create the nested for loop\n",
        "for sent in chunked_sentences:\n",
        "    for chunk in ____:\n",
        "        if hasattr(chunk, 'label'):\n",
        "            ner_categories[chunk.label()] += 1\n",
        "            \n",
        "# Create a list from the dictionary keys for the chart labels: labels\n",
        "labels = list(ner_categories.keys())"
      ],
      "execution_count": null,
      "outputs": []
    },
    {
      "cell_type": "markdown",
      "metadata": {
        "id": "qzC3Lxb06c31"
      },
      "source": [
        "* Use a list comprehension to create a list called values, using the .get() method on ner_categories to compute the values of each label v.\n",
        "* Use plt.pie() to create a pie chart for each of the NER categories. Along with values and labels=labels, pass the extra keyword arguments autopct='%1.1f%%' and startangle=140 to add percentages to the chart and rotate the initial start angle.\n",
        "* This step has been done for you.\n",
        "* Display your pie chart. Was the distribution what you expected?"
      ]
    },
    {
      "cell_type": "code",
      "metadata": {
        "id": "eCy8sArE6lCV"
      },
      "source": [
        "# Create a list of the values: values\n",
        "values = [ner_categories.get(v) for v in labels]\n",
        "\n",
        "# Create the pie chart\n",
        "plt.pie(values, labels=labels, autopct='%1.1f%%', startangle=140)\n",
        "\n",
        "# Display the chart\n",
        "plt.show()"
      ],
      "execution_count": null,
      "outputs": []
    }
  ]
}