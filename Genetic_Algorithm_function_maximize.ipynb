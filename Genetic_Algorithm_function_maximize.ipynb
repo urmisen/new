{
  "nbformat": 4,
  "nbformat_minor": 0,
  "metadata": {
    "colab": {
      "name": "Genetic Algorithm.ipynb",
      "provenance": []
    },
    "kernelspec": {
      "name": "python3",
      "display_name": "Python 3"
    }
  },
  "cells": [
    {
      "cell_type": "code",
      "metadata": {
        "id": "49R3Yj7lQxnW",
        "colab_type": "code",
        "colab": {
          "base_uri": "https://localhost:8080/",
          "height": 943
        },
        "outputId": "f5638097-5ca2-4653-be6a-68cb640eca5b"
      },
      "source": [
        "!pip install tensorflow keras numpy matplotlib pandas sklearn Bio "
      ],
      "execution_count": null,
      "outputs": [
        {
          "output_type": "stream",
          "text": [
            "Requirement already satisfied: tensorflow in /usr/local/lib/python3.6/dist-packages (2.2.0)\n",
            "Requirement already satisfied: keras in /usr/local/lib/python3.6/dist-packages (2.3.1)\n",
            "Requirement already satisfied: numpy in /usr/local/lib/python3.6/dist-packages (1.18.5)\n",
            "Requirement already satisfied: matplotlib in /usr/local/lib/python3.6/dist-packages (3.2.2)\n",
            "Requirement already satisfied: pandas in /usr/local/lib/python3.6/dist-packages (1.0.5)\n",
            "Requirement already satisfied: sklearn in /usr/local/lib/python3.6/dist-packages (0.0)\n",
            "Requirement already satisfied: Bio in /usr/local/lib/python3.6/dist-packages (0.1.0)\n",
            "Requirement already satisfied: absl-py>=0.7.0 in /usr/local/lib/python3.6/dist-packages (from tensorflow) (0.9.0)\n",
            "Requirement already satisfied: termcolor>=1.1.0 in /usr/local/lib/python3.6/dist-packages (from tensorflow) (1.1.0)\n",
            "Requirement already satisfied: six>=1.12.0 in /usr/local/lib/python3.6/dist-packages (from tensorflow) (1.12.0)\n",
            "Requirement already satisfied: opt-einsum>=2.3.2 in /usr/local/lib/python3.6/dist-packages (from tensorflow) (3.2.1)\n",
            "Requirement already satisfied: scipy==1.4.1; python_version >= \"3\" in /usr/local/lib/python3.6/dist-packages (from tensorflow) (1.4.1)\n",
            "Requirement already satisfied: tensorflow-estimator<2.3.0,>=2.2.0 in /usr/local/lib/python3.6/dist-packages (from tensorflow) (2.2.0)\n",
            "Requirement already satisfied: google-pasta>=0.1.8 in /usr/local/lib/python3.6/dist-packages (from tensorflow) (0.2.0)\n",
            "Requirement already satisfied: gast==0.3.3 in /usr/local/lib/python3.6/dist-packages (from tensorflow) (0.3.3)\n",
            "Requirement already satisfied: wrapt>=1.11.1 in /usr/local/lib/python3.6/dist-packages (from tensorflow) (1.12.1)\n",
            "Requirement already satisfied: h5py<2.11.0,>=2.10.0 in /usr/local/lib/python3.6/dist-packages (from tensorflow) (2.10.0)\n",
            "Requirement already satisfied: wheel>=0.26; python_version >= \"3\" in /usr/local/lib/python3.6/dist-packages (from tensorflow) (0.34.2)\n",
            "Requirement already satisfied: tensorboard<2.3.0,>=2.2.0 in /usr/local/lib/python3.6/dist-packages (from tensorflow) (2.2.2)\n",
            "Requirement already satisfied: protobuf>=3.8.0 in /usr/local/lib/python3.6/dist-packages (from tensorflow) (3.12.2)\n",
            "Requirement already satisfied: astunparse==1.6.3 in /usr/local/lib/python3.6/dist-packages (from tensorflow) (1.6.3)\n",
            "Requirement already satisfied: grpcio>=1.8.6 in /usr/local/lib/python3.6/dist-packages (from tensorflow) (1.30.0)\n",
            "Requirement already satisfied: keras-preprocessing>=1.1.0 in /usr/local/lib/python3.6/dist-packages (from tensorflow) (1.1.2)\n",
            "Requirement already satisfied: pyyaml in /usr/local/lib/python3.6/dist-packages (from keras) (3.13)\n",
            "Requirement already satisfied: keras-applications>=1.0.6 in /usr/local/lib/python3.6/dist-packages (from keras) (1.0.8)\n",
            "Requirement already satisfied: python-dateutil>=2.1 in /usr/local/lib/python3.6/dist-packages (from matplotlib) (2.8.1)\n",
            "Requirement already satisfied: kiwisolver>=1.0.1 in /usr/local/lib/python3.6/dist-packages (from matplotlib) (1.2.0)\n",
            "Requirement already satisfied: pyparsing!=2.0.4,!=2.1.2,!=2.1.6,>=2.0.1 in /usr/local/lib/python3.6/dist-packages (from matplotlib) (2.4.7)\n",
            "Requirement already satisfied: cycler>=0.10 in /usr/local/lib/python3.6/dist-packages (from matplotlib) (0.10.0)\n",
            "Requirement already satisfied: pytz>=2017.2 in /usr/local/lib/python3.6/dist-packages (from pandas) (2018.9)\n",
            "Requirement already satisfied: scikit-learn in /usr/local/lib/python3.6/dist-packages (from sklearn) (0.22.2.post1)\n",
            "Requirement already satisfied: google-auth-oauthlib<0.5,>=0.4.1 in /usr/local/lib/python3.6/dist-packages (from tensorboard<2.3.0,>=2.2.0->tensorflow) (0.4.1)\n",
            "Requirement already satisfied: werkzeug>=0.11.15 in /usr/local/lib/python3.6/dist-packages (from tensorboard<2.3.0,>=2.2.0->tensorflow) (1.0.1)\n",
            "Requirement already satisfied: tensorboard-plugin-wit>=1.6.0 in /usr/local/lib/python3.6/dist-packages (from tensorboard<2.3.0,>=2.2.0->tensorflow) (1.7.0)\n",
            "Requirement already satisfied: markdown>=2.6.8 in /usr/local/lib/python3.6/dist-packages (from tensorboard<2.3.0,>=2.2.0->tensorflow) (3.2.2)\n",
            "Requirement already satisfied: requests<3,>=2.21.0 in /usr/local/lib/python3.6/dist-packages (from tensorboard<2.3.0,>=2.2.0->tensorflow) (2.23.0)\n",
            "Requirement already satisfied: google-auth<2,>=1.6.3 in /usr/local/lib/python3.6/dist-packages (from tensorboard<2.3.0,>=2.2.0->tensorflow) (1.17.2)\n",
            "Requirement already satisfied: setuptools>=41.0.0 in /usr/local/lib/python3.6/dist-packages (from tensorboard<2.3.0,>=2.2.0->tensorflow) (49.1.0)\n",
            "Requirement already satisfied: joblib>=0.11 in /usr/local/lib/python3.6/dist-packages (from scikit-learn->sklearn) (0.16.0)\n",
            "Requirement already satisfied: requests-oauthlib>=0.7.0 in /usr/local/lib/python3.6/dist-packages (from google-auth-oauthlib<0.5,>=0.4.1->tensorboard<2.3.0,>=2.2.0->tensorflow) (1.3.0)\n",
            "Requirement already satisfied: importlib-metadata; python_version < \"3.8\" in /usr/local/lib/python3.6/dist-packages (from markdown>=2.6.8->tensorboard<2.3.0,>=2.2.0->tensorflow) (1.7.0)\n",
            "Requirement already satisfied: urllib3!=1.25.0,!=1.25.1,<1.26,>=1.21.1 in /usr/local/lib/python3.6/dist-packages (from requests<3,>=2.21.0->tensorboard<2.3.0,>=2.2.0->tensorflow) (1.24.3)\n",
            "Requirement already satisfied: certifi>=2017.4.17 in /usr/local/lib/python3.6/dist-packages (from requests<3,>=2.21.0->tensorboard<2.3.0,>=2.2.0->tensorflow) (2020.6.20)\n",
            "Requirement already satisfied: idna<3,>=2.5 in /usr/local/lib/python3.6/dist-packages (from requests<3,>=2.21.0->tensorboard<2.3.0,>=2.2.0->tensorflow) (2.10)\n",
            "Requirement already satisfied: chardet<4,>=3.0.2 in /usr/local/lib/python3.6/dist-packages (from requests<3,>=2.21.0->tensorboard<2.3.0,>=2.2.0->tensorflow) (3.0.4)\n",
            "Requirement already satisfied: pyasn1-modules>=0.2.1 in /usr/local/lib/python3.6/dist-packages (from google-auth<2,>=1.6.3->tensorboard<2.3.0,>=2.2.0->tensorflow) (0.2.8)\n",
            "Requirement already satisfied: rsa<5,>=3.1.4; python_version >= \"3\" in /usr/local/lib/python3.6/dist-packages (from google-auth<2,>=1.6.3->tensorboard<2.3.0,>=2.2.0->tensorflow) (4.6)\n",
            "Requirement already satisfied: cachetools<5.0,>=2.0.0 in /usr/local/lib/python3.6/dist-packages (from google-auth<2,>=1.6.3->tensorboard<2.3.0,>=2.2.0->tensorflow) (4.1.1)\n",
            "Requirement already satisfied: oauthlib>=3.0.0 in /usr/local/lib/python3.6/dist-packages (from requests-oauthlib>=0.7.0->google-auth-oauthlib<0.5,>=0.4.1->tensorboard<2.3.0,>=2.2.0->tensorflow) (3.1.0)\n",
            "Requirement already satisfied: zipp>=0.5 in /usr/local/lib/python3.6/dist-packages (from importlib-metadata; python_version < \"3.8\"->markdown>=2.6.8->tensorboard<2.3.0,>=2.2.0->tensorflow) (3.1.0)\n",
            "Requirement already satisfied: pyasn1<0.5.0,>=0.4.6 in /usr/local/lib/python3.6/dist-packages (from pyasn1-modules>=0.2.1->google-auth<2,>=1.6.3->tensorboard<2.3.0,>=2.2.0->tensorflow) (0.4.8)\n"
          ],
          "name": "stdout"
        }
      ]
    },
    {
      "cell_type": "code",
      "metadata": {
        "id": "fuqJzqkkQ6MM",
        "colab_type": "code",
        "colab": {}
      },
      "source": [
        "# A program of Genetic Algorithm to find out the bit sets that can optimize the search of minimum number.\n",
        "# this genetic algorithm is for optimizing the value of the function of - (x**3) +10\n",
        "import numpy as np \n",
        "import pandas as pd\n"
      ],
      "execution_count": null,
      "outputs": []
    },
    {
      "cell_type": "code",
      "metadata": {
        "id": "In8u7GvORvMP",
        "colab_type": "code",
        "colab": {
          "base_uri": "https://localhost:8080/",
          "height": 52
        },
        "outputId": "a7f79979-ff40-4657-be89-a57d9da3c0ff"
      },
      "source": [
        "# At the beginning of this process, we need to initialize some possible solutions to this problem \n",
        "# and population is a subset of all possible solutions to the given problem.\n",
        "# We used random initialization process to initialize population for the problem.\n",
        "import random\n",
        "best=-100000\n",
        "populations =([[random.randint(0,1) for x in range(6)] for i in range(4)])\n",
        "print(\"List of Population :\")\n",
        "parents=[]\n",
        "new_populations = []\n",
        "print(populations)"
      ],
      "execution_count": null,
      "outputs": [
        {
          "output_type": "stream",
          "text": [
            "List of Population :\n",
            "[[0, 0, 0, 0, 0, 0], [0, 1, 0, 0, 0, 0], [0, 0, 0, 0, 0, 0], [0, 0, 1, 1, 1, 1]]\n"
          ],
          "name": "stdout"
        }
      ]
    },
    {
      "cell_type": "code",
      "metadata": {
        "id": "tryeOYMMSHCX",
        "colab_type": "code",
        "colab": {
          "base_uri": "https://localhost:8080/",
          "height": 87
        },
        "outputId": "6505f113-fb03-4410-888b-32bf2e264eaf"
      },
      "source": [
        "#Fitness Function\n",
        "#fitness score calculation\n",
        "def fitness_score() :\n",
        "    global populations,best\n",
        "    fit_value = []\n",
        "    fit_score=[]\n",
        "    for i in range(4) :\n",
        "        chromosome_value=0\n",
        "        \n",
        "        for j in range(5,0,-1) :\n",
        "            chromosome_value += populations[i][j]*(2**(5-j))\n",
        "        chromosome_value = -1*chromosome_value if populations[i][0]==1 else chromosome_value\n",
        "        fit_value.append(-(chromosome_value**3) + 10 )\n",
        "    fit_value, populations = zip(*sorted(zip(fit_value, populations) , reverse = True))\n",
        "    best= fit_value[0]\n",
        "    print(\"Sorted list of fitness values : \")\n",
        "    print(fit_value)\n",
        "    print(\"Sorted list of population : \")\n",
        "    print(populations)\n",
        "    \n",
        "fitness_score()"
      ],
      "execution_count": null,
      "outputs": [
        {
          "output_type": "stream",
          "text": [
            "Sorted list of fitness values : \n",
            "(10, 10, -3365, -4086)\n",
            "Sorted list of population : \n",
            "([0, 0, 0, 0, 0, 0], [0, 0, 0, 0, 0, 0], [0, 0, 1, 1, 1, 1], [0, 1, 0, 0, 0, 0])\n"
          ],
          "name": "stdout"
        }
      ]
    },
    {
      "cell_type": "code",
      "metadata": {
        "id": "za4K4PP8TWRM",
        "colab_type": "code",
        "colab": {
          "base_uri": "https://localhost:8080/",
          "height": 70
        },
        "outputId": "2cbff3db-5d63-46c8-8a24-153b340585e2"
      },
      "source": [
        "#parent selection\n",
        "def selectparent():\n",
        "    global parents\n",
        "    #global populations , parents\n",
        "    parents=populations[:2]\n",
        "    print(type(parents))\n",
        "    print(\"Selected parents are : \")\n",
        "    print(parents)\n",
        "selectparent()\n"
      ],
      "execution_count": null,
      "outputs": [
        {
          "output_type": "stream",
          "text": [
            "<class 'tuple'>\n",
            "Selected parents are : \n",
            "([0, 0, 0, 0, 0, 0], [0, 0, 0, 0, 0, 0])\n"
          ],
          "name": "stdout"
        }
      ]
    },
    {
      "cell_type": "code",
      "metadata": {
        "id": "w9Rb9vD3TwFR",
        "colab_type": "code",
        "colab": {
          "base_uri": "https://localhost:8080/",
          "height": 52
        },
        "outputId": "f74e2fc2-69c6-4142-89d1-72486952dbb1"
      },
      "source": [
        "\n",
        "#single-point crossover\n",
        "\n",
        "def crossover() :\n",
        "    global parents\n",
        "    \n",
        "    cross_point = random.randint(0,5)\n",
        "    parents=parents + tuple([(parents[0][0:cross_point +1] +parents[1][cross_point+1:6])])\n",
        "    parents =parents+ tuple([(parents[1][0:cross_point +1] +parents[0][cross_point+1:6])])\n",
        "    \n",
        "    print(\"After single-point crossover :\")\n",
        "    print(parents)\n",
        "    \n",
        "\n",
        "crossover()"
      ],
      "execution_count": null,
      "outputs": [
        {
          "output_type": "stream",
          "text": [
            "After single-point crossover :\n",
            "([0, 0, 0, 0, 0, 0], [0, 0, 0, 0, 0, 0], [0, 0, 0, 0, 0, 0], [0, 0, 0, 0, 0, 0])\n"
          ],
          "name": "stdout"
        }
      ]
    },
    {
      "cell_type": "code",
      "metadata": {
        "id": "pHYBQY34T3pC",
        "colab_type": "code",
        "colab": {
          "base_uri": "https://localhost:8080/",
          "height": 52
        },
        "outputId": "d5fbb445-b0f6-4a5b-ae1c-8cb2934673eb"
      },
      "source": [
        "def mutation() :\n",
        "    global populations, parents\n",
        "    mute = random.randint(0,49)\n",
        "    if mute == 20 :\n",
        "        x=random.randint(0,3)\n",
        "        y = random.randint(0,5)\n",
        "        parents[x][y] = 1-parents[x][y]\n",
        "    populations = parents\n",
        "    print(\"After mutation :\")\n",
        "    print(populations)\n",
        "mutation()"
      ],
      "execution_count": null,
      "outputs": [
        {
          "output_type": "stream",
          "text": [
            "After mutation :\n",
            "([0, 0, 0, 0, 0, 0], [0, 0, 0, 0, 0, 0], [0, 0, 0, 0, 0, 0], [0, 0, 0, 0, 0, 0])\n"
          ],
          "name": "stdout"
        }
      ]
    },
    {
      "cell_type": "code",
      "metadata": {
        "id": "QC6rELHLZqhx",
        "colab_type": "code",
        "colab": {
          "base_uri": "https://localhost:8080/",
          "height": 34
        },
        "outputId": "dfc0a21c-81c0-4eaf-c3b2-d014a60549f2"
      },
      "source": [
        "def eval_fit():\n",
        "    global populations\n",
        "    fit_vals = []\n",
        "    size=6\n",
        "    for i in range(len(populations)):\n",
        "        fit_vals.append(np.sum(populations[i]))\n",
        "        \n",
        "    best_fitn= np.amax(np.array(fit_vals))\n",
        "    print(\"Efficiency\" + \" : \" + str(100*best_fitn/size) + \"%\")\n",
        "eval_fit()"
      ],
      "execution_count": null,
      "outputs": [
        {
          "output_type": "stream",
          "text": [
            "Efficiency : 0.0%\n"
          ],
          "name": "stdout"
        }
      ]
    },
    {
      "cell_type": "code",
      "metadata": {
        "id": "faNKcLkvUGFU",
        "colab_type": "code",
        "colab": {
          "base_uri": "https://localhost:8080/",
          "height": 1000
        },
        "outputId": "1a81686f-fd8c-4830-cfe6-6930c777b913"
      },
      "source": [
        "size = 6\n",
        "\n",
        "\n",
        "for i in range(10) :\n",
        "    fitness_score()\n",
        "    selectparent() \n",
        "    crossover()\n",
        "    mutation()\n",
        "    eval_fit()\n",
        "    print(\"\\n\")\n",
        "\n",
        "print(\"best score :\")\n",
        "print(best)\n",
        "print(\"sequence........\")\n",
        "print(populations[0])\n"
      ],
      "execution_count": null,
      "outputs": [
        {
          "output_type": "stream",
          "text": [
            "Sorted list of fitness values : \n",
            "(10, 10, 10, 10)\n",
            "Sorted list of population : \n",
            "([0, 0, 0, 0, 0, 0], [0, 0, 0, 0, 0, 0], [0, 0, 0, 0, 0, 0], [0, 0, 0, 0, 0, 0])\n",
            "<class 'tuple'>\n",
            "Selected parents are : \n",
            "([0, 0, 0, 0, 0, 0], [0, 0, 0, 0, 0, 0])\n",
            "After single-point crossover :\n",
            "([0, 0, 0, 0, 0, 0], [0, 0, 0, 0, 0, 0], [0, 0, 0, 0, 0, 0], [0, 0, 0, 0, 0, 0])\n",
            "After mutation :\n",
            "([0, 0, 0, 0, 0, 0], [0, 0, 0, 0, 0, 0], [0, 0, 0, 0, 0, 0], [0, 0, 0, 0, 0, 0])\n",
            "Efficiency : 0.0%\n",
            "\n",
            "\n",
            "Sorted list of fitness values : \n",
            "(10, 10, 10, 10)\n",
            "Sorted list of population : \n",
            "([0, 0, 0, 0, 0, 0], [0, 0, 0, 0, 0, 0], [0, 0, 0, 0, 0, 0], [0, 0, 0, 0, 0, 0])\n",
            "<class 'tuple'>\n",
            "Selected parents are : \n",
            "([0, 0, 0, 0, 0, 0], [0, 0, 0, 0, 0, 0])\n",
            "After single-point crossover :\n",
            "([0, 0, 0, 0, 0, 0], [0, 0, 0, 0, 0, 0], [0, 0, 0, 0, 0, 0], [0, 0, 0, 0, 0, 0])\n",
            "After mutation :\n",
            "([0, 0, 0, 0, 0, 0], [0, 0, 0, 0, 0, 0], [0, 0, 0, 0, 0, 0], [0, 0, 0, 0, 0, 0])\n",
            "Efficiency : 0.0%\n",
            "\n",
            "\n",
            "Sorted list of fitness values : \n",
            "(10, 10, 10, 10)\n",
            "Sorted list of population : \n",
            "([0, 0, 0, 0, 0, 0], [0, 0, 0, 0, 0, 0], [0, 0, 0, 0, 0, 0], [0, 0, 0, 0, 0, 0])\n",
            "<class 'tuple'>\n",
            "Selected parents are : \n",
            "([0, 0, 0, 0, 0, 0], [0, 0, 0, 0, 0, 0])\n",
            "After single-point crossover :\n",
            "([0, 0, 0, 0, 0, 0], [0, 0, 0, 0, 0, 0], [0, 0, 0, 0, 0, 0], [0, 0, 0, 0, 0, 0])\n",
            "After mutation :\n",
            "([0, 0, 0, 0, 0, 0], [0, 0, 0, 0, 0, 0], [0, 0, 0, 0, 0, 0], [0, 0, 0, 0, 0, 0])\n",
            "Efficiency : 0.0%\n",
            "\n",
            "\n",
            "Sorted list of fitness values : \n",
            "(10, 10, 10, 10)\n",
            "Sorted list of population : \n",
            "([0, 0, 0, 0, 0, 0], [0, 0, 0, 0, 0, 0], [0, 0, 0, 0, 0, 0], [0, 0, 0, 0, 0, 0])\n",
            "<class 'tuple'>\n",
            "Selected parents are : \n",
            "([0, 0, 0, 0, 0, 0], [0, 0, 0, 0, 0, 0])\n",
            "After single-point crossover :\n",
            "([0, 0, 0, 0, 0, 0], [0, 0, 0, 0, 0, 0], [0, 0, 0, 0, 0, 0], [0, 0, 0, 0, 0, 0])\n",
            "After mutation :\n",
            "([0, 0, 0, 0, 0, 0], [0, 0, 0, 0, 0, 0], [0, 0, 0, 0, 0, 0], [0, 0, 0, 0, 0, 0])\n",
            "Efficiency : 0.0%\n",
            "\n",
            "\n",
            "Sorted list of fitness values : \n",
            "(10, 10, 10, 10)\n",
            "Sorted list of population : \n",
            "([0, 0, 0, 0, 0, 0], [0, 0, 0, 0, 0, 0], [0, 0, 0, 0, 0, 0], [0, 0, 0, 0, 0, 0])\n",
            "<class 'tuple'>\n",
            "Selected parents are : \n",
            "([0, 0, 0, 0, 0, 0], [0, 0, 0, 0, 0, 0])\n",
            "After single-point crossover :\n",
            "([0, 0, 0, 0, 0, 0], [0, 0, 0, 0, 0, 0], [0, 0, 0, 0, 0, 0], [0, 0, 0, 0, 0, 0])\n",
            "After mutation :\n",
            "([0, 0, 0, 0, 0, 0], [0, 0, 0, 0, 0, 0], [0, 0, 0, 0, 0, 0], [0, 0, 0, 0, 0, 0])\n",
            "Efficiency : 0.0%\n",
            "\n",
            "\n",
            "Sorted list of fitness values : \n",
            "(10, 10, 10, 10)\n",
            "Sorted list of population : \n",
            "([0, 0, 0, 0, 0, 0], [0, 0, 0, 0, 0, 0], [0, 0, 0, 0, 0, 0], [0, 0, 0, 0, 0, 0])\n",
            "<class 'tuple'>\n",
            "Selected parents are : \n",
            "([0, 0, 0, 0, 0, 0], [0, 0, 0, 0, 0, 0])\n",
            "After single-point crossover :\n",
            "([0, 0, 0, 0, 0, 0], [0, 0, 0, 0, 0, 0], [0, 0, 0, 0, 0, 0], [0, 0, 0, 0, 0, 0])\n",
            "After mutation :\n",
            "([0, 0, 0, 0, 0, 0], [0, 0, 0, 0, 0, 0], [0, 0, 0, 0, 0, 0], [0, 0, 0, 0, 0, 0])\n",
            "Efficiency : 0.0%\n",
            "\n",
            "\n",
            "Sorted list of fitness values : \n",
            "(10, 10, 10, 10)\n",
            "Sorted list of population : \n",
            "([0, 0, 0, 0, 0, 0], [0, 0, 0, 0, 0, 0], [0, 0, 0, 0, 0, 0], [0, 0, 0, 0, 0, 0])\n",
            "<class 'tuple'>\n",
            "Selected parents are : \n",
            "([0, 0, 0, 0, 0, 0], [0, 0, 0, 0, 0, 0])\n",
            "After single-point crossover :\n",
            "([0, 0, 0, 0, 0, 0], [0, 0, 0, 0, 0, 0], [0, 0, 0, 0, 0, 0], [0, 0, 0, 0, 0, 0])\n",
            "After mutation :\n",
            "([0, 0, 0, 0, 0, 0], [0, 0, 0, 0, 0, 0], [0, 0, 0, 0, 0, 0], [0, 0, 0, 0, 0, 0])\n",
            "Efficiency : 0.0%\n",
            "\n",
            "\n",
            "Sorted list of fitness values : \n",
            "(10, 10, 10, 10)\n",
            "Sorted list of population : \n",
            "([0, 0, 0, 0, 0, 0], [0, 0, 0, 0, 0, 0], [0, 0, 0, 0, 0, 0], [0, 0, 0, 0, 0, 0])\n",
            "<class 'tuple'>\n",
            "Selected parents are : \n",
            "([0, 0, 0, 0, 0, 0], [0, 0, 0, 0, 0, 0])\n",
            "After single-point crossover :\n",
            "([0, 0, 0, 0, 0, 0], [0, 0, 0, 0, 0, 0], [0, 0, 0, 0, 0, 0], [0, 0, 0, 0, 0, 0])\n",
            "After mutation :\n",
            "([0, 0, 0, 0, 0, 0], [0, 0, 0, 0, 0, 0], [0, 0, 0, 0, 0, 0], [0, 0, 0, 0, 0, 0])\n",
            "Efficiency : 0.0%\n",
            "\n",
            "\n",
            "Sorted list of fitness values : \n",
            "(10, 10, 10, 10)\n",
            "Sorted list of population : \n",
            "([0, 0, 0, 0, 0, 0], [0, 0, 0, 0, 0, 0], [0, 0, 0, 0, 0, 0], [0, 0, 0, 0, 0, 0])\n",
            "<class 'tuple'>\n",
            "Selected parents are : \n",
            "([0, 0, 0, 0, 0, 0], [0, 0, 0, 0, 0, 0])\n",
            "After single-point crossover :\n",
            "([0, 0, 0, 0, 0, 0], [0, 0, 0, 0, 0, 0], [0, 0, 0, 0, 0, 0], [0, 0, 0, 0, 0, 0])\n",
            "After mutation :\n",
            "([0, 0, 0, 0, 0, 0], [0, 0, 0, 0, 0, 0], [0, 0, 0, 0, 0, 0], [0, 0, 0, 0, 0, 0])\n",
            "Efficiency : 0.0%\n",
            "\n",
            "\n",
            "Sorted list of fitness values : \n",
            "(10, 10, 10, 10)\n",
            "Sorted list of population : \n",
            "([0, 0, 0, 0, 0, 0], [0, 0, 0, 0, 0, 0], [0, 0, 0, 0, 0, 0], [0, 0, 0, 0, 0, 0])\n",
            "<class 'tuple'>\n",
            "Selected parents are : \n",
            "([0, 0, 0, 0, 0, 0], [0, 0, 0, 0, 0, 0])\n",
            "After single-point crossover :\n",
            "([0, 0, 0, 0, 0, 0], [0, 0, 0, 0, 0, 0], [0, 0, 0, 0, 0, 0], [0, 0, 0, 0, 0, 0])\n",
            "After mutation :\n",
            "([0, 0, 0, 0, 0, 0], [0, 0, 0, 0, 0, 0], [0, 0, 0, 0, 0, 0], [0, 0, 0, 0, 0, 0])\n",
            "Efficiency : 0.0%\n",
            "\n",
            "\n",
            "best score :\n",
            "10\n",
            "sequence........\n",
            "[0, 0, 0, 0, 0, 0]\n"
          ],
          "name": "stdout"
        }
      ]
    },
    {
      "cell_type": "code",
      "metadata": {
        "id": "4YjyAnckUNL7",
        "colab_type": "code",
        "colab": {}
      },
      "source": [
        "\n"
      ],
      "execution_count": null,
      "outputs": []
    }
  ]
}